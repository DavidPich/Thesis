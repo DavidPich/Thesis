{
 "cells": [
  {
   "cell_type": "code",
   "execution_count": 2,
   "metadata": {},
   "outputs": [],
   "source": [
    "import numpy as np\n",
    "import matplotlib.pyplot as plt\n",
    "import os\n",
    "\n",
    "import torch\n",
    "import torchvision\n",
    "from torchvision import datasets, transforms\n",
    "import torch.utils\n",
    "import torch.utils.data \n",
    "import torch.utils.data.dataloader\n",
    "import torchvision.models.resnet\n",
    "\n",
    "from sklearn.metrics import roc_curve, auc, accuracy_score\n",
    "from sklearn.metrics import f1_score, precision_score, recall_score\n",
    "from itertools import groupby"
   ]
  },
  {
   "cell_type": "code",
   "execution_count": 3,
   "metadata": {},
   "outputs": [
    {
     "name": "stdout",
     "output_type": "stream",
     "text": [
      "PyTorch version: 2.4.0\n"
     ]
    }
   ],
   "source": [
    "print(f\"PyTorch version: {torch.__version__}\")"
   ]
  },
  {
   "cell_type": "code",
   "execution_count": 4,
   "metadata": {},
   "outputs": [
    {
     "name": "stdout",
     "output_type": "stream",
     "text": [
      "Is MPS built? True\n",
      "Is MPS available? True\n",
      "Using device: mps\n"
     ]
    }
   ],
   "source": [
    "print(f\"Is MPS built? {torch.backends.mps.is_built()}\")\n",
    "print(f\"Is MPS available? {torch.backends.mps.is_available()}\")\n",
    "\n",
    "# Set device\n",
    "device = \"mps\" if torch.backends.mps.is_available() else \"cpu\"\n",
    "print(f\"Using device: {device}\")"
   ]
  },
  {
   "cell_type": "code",
   "execution_count": 5,
   "metadata": {},
   "outputs": [],
   "source": [
    "def validate(model, loader):\n",
    "    correct = 0\n",
    "    total = 0\n",
    "    \n",
    "    model.eval()\n",
    "    with torch.no_grad():\n",
    "        for images, labels in loader:\n",
    "            # Send data to device\n",
    "            images, labels = images.to(device), labels.to(device)\n",
    "\n",
    "            outputs = model(images)\n",
    "            _, predicted = torch.max(outputs.data, 1)\n",
    "            total += labels.size(0)\n",
    "            correct += (predicted == labels).sum().item()\n",
    "        \n",
    "    return correct / total"
   ]
  },
  {
   "cell_type": "code",
   "execution_count": null,
   "metadata": {},
   "outputs": [
    {
     "name": "stderr",
     "output_type": "stream",
     "text": [
      "/Users/davidpichler/GitHubRepo/Thesis/.conda/lib/python3.11/site-packages/torchvision/models/_utils.py:208: UserWarning: The parameter 'pretrained' is deprecated since 0.13 and may be removed in the future, please use 'weights' instead.\n",
      "  warnings.warn(\n",
      "/Users/davidpichler/GitHubRepo/Thesis/.conda/lib/python3.11/site-packages/torchvision/models/_utils.py:223: UserWarning: Arguments other than a weight enum or `None` for 'weights' are deprecated since 0.13 and may be removed in the future. The current behavior is equivalent to passing `weights=ResNet50_Weights.IMAGENET1K_V1`. You can also use `weights=ResNet50_Weights.DEFAULT` to get the most up-to-date weights.\n",
      "  warnings.warn(msg)\n"
     ]
    },
    {
     "name": "stdout",
     "output_type": "stream",
     "text": [
      "Train Dataset: 1977\n",
      "Validation Dataset: 247\n",
      "Test Dataset: 248\n",
      "Epoch: 1 | Validation Loss: 0.28020823188126087\n",
      "Epoch: 2 | Validation Loss: 0.17298963759094477\n",
      "Epoch: 3 | Validation Loss: 0.41233160346746445\n",
      "Epoch: 4 | Validation Loss: 0.05828767825732939\n",
      "Epoch: 5 | Validation Loss: 0.23111302591860294\n",
      "Epoch: 6 | Validation Loss: 0.16194335371255875\n",
      "Epoch: 7 | Validation Loss: 0.08027925284113735\n",
      "Epoch: 8 | Validation Loss: 0.3962883548811078\n",
      "Epoch: 9 | Validation Loss: 2.294756531715393\n",
      "Epoch: 10 | Validation Loss: 0.04956370373838581\n",
      "Epoch: 11 | Validation Loss: 0.052865850913804024\n",
      "Epoch: 12 | Validation Loss: 0.13383746123872697\n",
      "Epoch: 13 | Validation Loss: 0.04643250579829328\n",
      "Epoch: 14 | Validation Loss: 0.07072625248110853\n",
      "Epoch: 15 | Validation Loss: 0.08967559483426157\n",
      "Epoch: 16 | Validation Loss: 0.13237669877707958\n",
      "Epoch: 17 | Validation Loss: 0.18671014870051295\n",
      "Epoch: 18 | Validation Loss: 0.4410478351637721\n",
      "Epoch: 19 | Validation Loss: 1.4303198456764221\n",
      "Epoch: 20 | Validation Loss: 1.224037192761898\n",
      "Epoch: 21 | Validation Loss: 0.3569047963246703\n",
      "Epoch: 22 | Validation Loss: 0.547208215110004\n",
      "Epoch: 23 | Validation Loss: 0.020865300844889134\n",
      "Epoch: 24 | Validation Loss: 0.04881509256665595\n",
      "Epoch: 25 | Validation Loss: 0.3368927026167512\n",
      "Epoch: 26 | Validation Loss: 0.0478410199721111\n",
      "Epoch: 27 | Validation Loss: 0.02805862403693027\n",
      "Epoch: 28 | Validation Loss: 0.07366176997311413\n",
      "Epoch: 29 | Validation Loss: 0.02926608410780318\n",
      "Epoch: 30 | Validation Loss: 0.1766742174513638\n",
      "Epoch: 31 | Validation Loss: 0.07468047924339771\n",
      "Epoch: 32 | Validation Loss: 0.40407588984817266\n",
      "Epoch: 33 | Validation Loss: 0.48124848678708076\n",
      "Early stopping!\n"
     ]
    },
    {
     "name": "stderr",
     "output_type": "stream",
     "text": [
      "/var/folders/4_/cp0xvtt57bs8hr0q5bv1vnw80000gn/T/ipykernel_82019/3724035284.py:99: FutureWarning: You are using `torch.load` with `weights_only=False` (the current default value), which uses the default pickle module implicitly. It is possible to construct malicious pickle data which will execute arbitrary code during unpickling (See https://github.com/pytorch/pytorch/blob/main/SECURITY.md#untrusted-models for more details). In a future release, the default value for `weights_only` will be flipped to `True`. This limits the functions that could be executed during unpickling. Arbitrary objects will no longer be allowed to be loaded via this mode unless they are explicitly allowlisted by the user via `torch.serialization.add_safe_globals`. We recommend you start setting `weights_only=True` for any use case where you don't have full control of the loaded file. Please open an issue on GitHub for any issues related to this experimental feature.\n",
      "  model.load_state_dict(torch.load('best_model.pth'))\n"
     ]
    },
    {
     "data": {
      "text/plain": [
       "<All keys matched successfully>"
      ]
     },
     "execution_count": 6,
     "metadata": {},
     "output_type": "execute_result"
    }
   ],
   "source": [
    "import torch\n",
    "import torch.nn as nn\n",
    "import torch.optim as optim\n",
    "from torchvision import datasets, transforms, models\n",
    "from torch.utils.data import DataLoader, random_split\n",
    "\n",
    "# 2. Laden des model Modells ohne vortrainierte Gewichte\n",
    "#model = models.alexnet(pretrained=True)\n",
    "model = models.resnet50(pretrained=True)\n",
    "#model = models.vgg16(pretrained=True)\n",
    "model = model.to(device)\n",
    "\n",
    "# 3. & 4. Datensatz vorbereiten und in Trainings- und Validierungssets aufteilen\n",
    "transform = transforms.Compose([\n",
    "    transforms.Resize((224, 224)),\n",
    "    transforms.ToTensor(),\n",
    "])\n",
    "\n",
    "# 5. Laden des Datensatzes\n",
    "\n",
    "# Absoluter Pfad basierend auf dem aktuellen Arbeitsverzeichnis\n",
    "#parent_directory = os.path.abspath(os.path.join(os.getcwd(), '..'))\n",
    "\n",
    "# Relative path to the folder containing the images\n",
    "relative_folderpath = '/Volumes/Crucial X9/Data_MT/Various Smule Vocal Performances/DB/Batch 3/vocal_org/graph/spec'\n",
    "\n",
    "# Erstellen des Datasets\n",
    "dataset = datasets.ImageFolder(relative_folderpath, transform=transform)\n",
    "dataloader = torch.utils.data.DataLoader(dataset, batch_size=16, shuffle=True, num_workers=4)\n",
    "\n",
    "random_seed = 2024\n",
    "torch.manual_seed(random_seed)\n",
    "\n",
    "# Define the sizes of the train and test sets\n",
    "train_size = int(0.8 * len(dataset))\n",
    "val_size = int(0.1 * len(dataset))\n",
    "test_size = len(dataset) - train_size - val_size\n",
    "\n",
    "# Split the dataset into train and test sets\n",
    "train_dataset, val_dataset, test_dataset = random_split(dataset, [train_size, val_size, test_size])\n",
    "print('Train Dataset: ' + str(len(train_dataset)))\n",
    "print('Validation Dataset: ' + str(len(val_dataset)))\n",
    "print('Test Dataset: ' + str(len(test_dataset)))\n",
    "\n",
    "\n",
    "train_loader = torch.utils.data.DataLoader(train_dataset, batch_size=32, shuffle=True, num_workers=4)\n",
    "val_loader = torch.utils.data.DataLoader(val_dataset, batch_size=32, shuffle=True, num_workers=4)\n",
    "test_loader = torch.utils.data.DataLoader(test_dataset, batch_size=32, shuffle=True, num_workers=4)\n",
    "\n",
    "# 6. Verlustfunktion und Optimierer definieren\n",
    "criterion = nn.CrossEntropyLoss()\n",
    "optimizer = optim.Adam(model.parameters(), lr=0.001)\n",
    "\n",
    "#num_epochs = 10\n",
    "\n",
    "num_epochs = 100  # Setzen Sie eine hohe Anzahl von Epochen\n",
    "patience = 10  # Anzahl der Epochen ohne Verbesserung, bevor das Training gestoppt wird\n",
    "best_val_loss = float('inf')\n",
    "epochs_no_improve = 0\n",
    "\n",
    "acc = []\n",
    "loss_values = []\n",
    "\n",
    "# 7. Trainingsschleife (vereinfacht)\n",
    "for epoch in range(num_epochs):\n",
    "    model.train()\n",
    "    for inputs, labels in train_loader:\n",
    "        inputs, labels = inputs.to(device), labels.to(device)\n",
    "        optimizer.zero_grad()\n",
    "        outputs = model(inputs)\n",
    "        loss = criterion(outputs, labels)\n",
    "        loss.backward()\n",
    "        optimizer.step()\n",
    "\n",
    "    model.eval()\n",
    "    val_loss = 0.0\n",
    "    with torch.no_grad():\n",
    "        for inputs, labels in val_loader:\n",
    "            inputs, labels = inputs.to(device), labels.to(device)\n",
    "            outputs = model(inputs)\n",
    "            loss = criterion(outputs, labels)\n",
    "            val_loss += loss.item()\n",
    "    \n",
    "    val_loss /= len(val_loader)\n",
    "    print(f'Epoch: {epoch + 1} | Validation Loss: {val_loss}')\n",
    "\n",
    "    if val_loss < best_val_loss:\n",
    "        best_val_loss = val_loss\n",
    "        epochs_no_improve = 0\n",
    "        torch.save(model.state_dict(), 'best_model.pth')\n",
    "    else:\n",
    "        epochs_no_improve += 1\n",
    "\n",
    "    if epochs_no_improve >= patience:\n",
    "        print('Early stopping!')\n",
    "        break\n",
    "\n",
    "# Laden Sie das beste Modell\n",
    "model.load_state_dict(torch.load('best_model.pth'))\n",
    "    \n",
    "    #train_accuracy = validate(model, val_loader)\n",
    "\n",
    "\n",
    "\n",
    "    #loss_values.append(loss.item())\n",
    "    #acc.append(train_accuracy)\n",
    "\n",
    "    #print(f'Epoch: {epoch + 1} | Loss: {loss.item()} | Train Accuracy:  {train_accuracy}')\n"
   ]
  },
  {
   "cell_type": "code",
   "execution_count": 1,
   "metadata": {},
   "outputs": [
    {
     "ename": "NameError",
     "evalue": "name 'plt' is not defined",
     "output_type": "error",
     "traceback": [
      "\u001b[0;31m---------------------------------------------------------------------------\u001b[0m",
      "\u001b[0;31mNameError\u001b[0m                                 Traceback (most recent call last)",
      "Cell \u001b[0;32mIn[1], line 1\u001b[0m\n\u001b[0;32m----> 1\u001b[0m \u001b[43mplt\u001b[49m\u001b[38;5;241m.\u001b[39mplot(loss_values)\n\u001b[1;32m      2\u001b[0m plt\u001b[38;5;241m.\u001b[39mxlabel(\u001b[38;5;124m\"\u001b[39m\u001b[38;5;124mno. of epochs\u001b[39m\u001b[38;5;124m\"\u001b[39m)\n\u001b[1;32m      3\u001b[0m plt\u001b[38;5;241m.\u001b[39mylabel(\u001b[38;5;124m\"\u001b[39m\u001b[38;5;124mtotal loss\u001b[39m\u001b[38;5;124m\"\u001b[39m)\n",
      "\u001b[0;31mNameError\u001b[0m: name 'plt' is not defined"
     ]
    }
   ],
   "source": [
    "plt.plot(loss_values)\n",
    "plt.xlabel(\"no. of epochs\")\n",
    "plt.ylabel(\"total loss\")\n",
    "plt.show()"
   ]
  },
  {
   "cell_type": "code",
   "execution_count": 14,
   "metadata": {},
   "outputs": [
    {
     "data": {
      "image/png": "[encoded data removed]",
      "text/plain": [
       "<Figure size 640x480 with 1 Axes>"
      ]
     },
     "metadata": {},
     "output_type": "display_data"
    }
   ],
   "source": [
    "plt.plot(acc)\n",
    "plt.xlabel(\"no. of epochs\")\n",
    "plt.ylabel(\"total accuracy\")\n",
    "plt.show()"
   ]
  },
  {
   "cell_type": "code",
   "execution_count": 15,
   "metadata": {},
   "outputs": [
    {
     "name": "stdout",
     "output_type": "stream",
     "text": [
      "Predicted labels: {0: 78, 1: 93, 2: 77}\n",
      "True labels: {0: 81, 1: 93, 2: 74}\n",
      "Accuracy: 0.9798387096774194\n",
      "F1 Score: 0.9798487865437557\n",
      "Precision: 0.9803120266829943\n",
      "Recall: 0.9798387096774194\n"
     ]
    }
   ],
   "source": [
    "model.eval()\n",
    "\n",
    "with torch.no_grad():\n",
    "   correct = 0\n",
    "   total = 0\n",
    "   true_labels = []\n",
    "   predicted_labels = []\n",
    "\n",
    "   for X_test_tensor, Y_test_tensor in test_loader:\n",
    "      X_test_tensor, Y_test_tensor = X_test_tensor.to(device), Y_test_tensor.to(device)\n",
    "      outputs = model(X_test_tensor)\n",
    "      _, predicted = torch.max(outputs.data, 1)\n",
    "\n",
    "      y_test = Y_test_tensor.cpu().numpy()\n",
    "      predicted = predicted.cpu().numpy()\n",
    "\n",
    "      correct += (predicted == y_test).sum().item()\n",
    "      total += len(y_test)\n",
    "\n",
    "\n",
    "      true_labels.extend(y_test)\n",
    "      predicted_labels.extend(predicted)\n",
    "\n",
    "   unique, counts = np.unique(predicted_labels, return_counts=True)\n",
    "   predicted_labels_dict = {int(k): int(v) for k, v in zip(unique, counts)}\n",
    "   print(f'Predicted labels: {predicted_labels_dict}')\n",
    "\n",
    "   unique, counts = np.unique(true_labels, return_counts=True)\n",
    "   true_labels_dict = {int(k): int(v) for k, v in zip(unique, counts)}\n",
    "   print(f'True labels: {true_labels_dict}')\n",
    "\n",
    "   accuracy = correct / total\n",
    "\n",
    "   print(f'Accuracy: {accuracy}')\n",
    "\n",
    "   f1 = f1_score(true_labels, predicted_labels, average='weighted')\n",
    "   print(f'F1 Score: {f1}')\n",
    "\n",
    "   precision = precision_score(true_labels, predicted_labels, average='weighted')\n",
    "   print(f'Precision: {precision}')\n",
    "\n",
    "   recall = recall_score(true_labels, predicted_labels, average='weighted')\n",
    "   print(f'Recall: {recall}')\n"
   ]
  },
  {
   "cell_type": "code",
   "execution_count": 10,
   "metadata": {},
   "outputs": [
    {
     "name": "stdout",
     "output_type": "stream",
     "text": [
      "                  Predicted Corrected  Predicted Original  Predicted Smoothed\n",
      "Actual Corrected                   77                   0                   4\n",
      "Actual Original                     0                  93                   0\n",
      "Actual Smoothed                     1                   0                  73\n"
     ]
    }
   ],
   "source": [
    "import pandas as pd\n",
    "from sklearn.metrics import confusion_matrix\n",
    "\n",
    "# Create a DataFrame from the confusion matrix\n",
    "cm = confusion_matrix(true_labels, predicted_labels)\n",
    "cm_df = pd.DataFrame(cm, index=['Actual Corrected', 'Actual Original', 'Actual Smoothed'], columns=['Predicted Corrected', 'Predicted Original', 'Predicted Smoothed'])\n",
    "\n",
    "# Display the DataFrame\n",
    "print(cm_df)\n"
   ]
  },
  {
   "cell_type": "code",
   "execution_count": 11,
   "metadata": {},
   "outputs": [],
   "source": [
    "if not os.path.exists('model/'): os.makedirs('model/')\n",
    "torch.save({\n",
    "    'model_state_dict': model.state_dict(),\n",
    "    'model_architecture': model\n",
    "}, 'model/resNet_complete.pth')"
   ]
  },
  {
   "cell_type": "code",
   "execution_count": 12,
   "metadata": {},
   "outputs": [
    {
     "data": {
      "text/plain": [
       "\"\\n if average_validation_loss < best_validation_loss:\\n            best_validation_loss = average_validation_loss\\n            best_model_state_dict = model.state_dict()\\n            print(epoch, ' saved!')\\n\""
      ]
     },
     "execution_count": 12,
     "metadata": {},
     "output_type": "execute_result"
    }
   ],
   "source": [
    "'''\n",
    " if average_validation_loss < best_validation_loss:\n",
    "            best_validation_loss = average_validation_loss\n",
    "            best_model_state_dict = model.state_dict()\n",
    "            print(epoch, ' saved!')\n",
    "'''"
   ]
  }
 ],
 "metadata": {
  "kernelspec": {
   "display_name": "Python 3",
   "language": "python",
   "name": "python3"
  },
  "language_info": {
   "codemirror_mode": {
    "name": "ipython",
    "version": 3
   },
   "file_extension": ".py",
   "mimetype": "text/x-python",
   "name": "python",
   "nbconvert_exporter": "python",
   "pygments_lexer": "ipython3",
   "version": "3.11.9"
  }
 },
 "nbformat": 4,
 "nbformat_minor": 2
}
