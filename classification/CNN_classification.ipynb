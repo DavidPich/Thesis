{
 "cells": [
  {
   "cell_type": "code",
   "execution_count": 2,
   "metadata": {},
   "outputs": [],
   "source": [
    "import numpy as np\n",
    "import matplotlib.pyplot as plt\n",
    "import os\n",
    "\n",
    "import torch\n",
    "import torchvision\n",
    "from torchvision import datasets, transforms\n",
    "import torch.utils\n",
    "import torch.utils.data \n",
    "import torch.utils.data.dataloader\n",
    "import torchvision.models.resnet\n",
    "\n",
    "from sklearn.metrics import roc_curve, auc, accuracy_score\n",
    "from sklearn.metrics import f1_score\n",
    "from itertools import groupby"
   ]
  },
  {
   "cell_type": "code",
   "execution_count": 3,
   "metadata": {},
   "outputs": [
    {
     "name": "stdout",
     "output_type": "stream",
     "text": [
      "PyTorch version: 2.4.0\n"
     ]
    }
   ],
   "source": [
    "print(f\"PyTorch version: {torch.__version__}\")"
   ]
  },
  {
   "cell_type": "code",
   "execution_count": 4,
   "metadata": {},
   "outputs": [
    {
     "name": "stdout",
     "output_type": "stream",
     "text": [
      "Is MPS built? True\n",
      "Is MPS available? True\n",
      "Using device: mps\n"
     ]
    }
   ],
   "source": [
    "print(f\"Is MPS built? {torch.backends.mps.is_built()}\")\n",
    "print(f\"Is MPS available? {torch.backends.mps.is_available()}\")\n",
    "\n",
    "# Set device\n",
    "device = \"mps\" if torch.backends.mps.is_available() else \"cpu\"\n",
    "print(f\"Using device: {device}\")"
   ]
  },
  {
   "cell_type": "code",
   "execution_count": 5,
   "metadata": {},
   "outputs": [
    {
     "name": "stderr",
     "output_type": "stream",
     "text": [
      "/Users/davidpichler/GitHubRepo/Thesis/.conda/lib/python3.11/site-packages/torchvision/models/_utils.py:208: UserWarning: The parameter 'pretrained' is deprecated since 0.13 and may be removed in the future, please use 'weights' instead.\n",
      "  warnings.warn(\n",
      "/Users/davidpichler/GitHubRepo/Thesis/.conda/lib/python3.11/site-packages/torchvision/models/_utils.py:223: UserWarning: Arguments other than a weight enum or `None` for 'weights' are deprecated since 0.13 and may be removed in the future. The current behavior is equivalent to passing `weights=ResNet50_Weights.IMAGENET1K_V1`. You can also use `weights=ResNet50_Weights.DEFAULT` to get the most up-to-date weights.\n",
      "  warnings.warn(msg)\n"
     ]
    },
    {
     "name": "stdout",
     "output_type": "stream",
     "text": [
      "Train Dataset: 578\n",
      "Test Dataset: 145\n",
      "Epoch: 1 | Loss: 1.1803280115127563\n",
      "Epoch: 2 | Loss: 1.9388232231140137\n",
      "Epoch: 3 | Loss: 0.6202244758605957\n",
      "Epoch: 4 | Loss: 0.18529725074768066\n",
      "Epoch: 5 | Loss: 2.0576059818267822\n",
      "Epoch: 6 | Loss: 0.8225549459457397\n",
      "Epoch: 7 | Loss: 0.05219484865665436\n",
      "Epoch: 8 | Loss: 0.03439133241772652\n",
      "Epoch: 9 | Loss: 3.2476890087127686\n",
      "Epoch: 10 | Loss: 0.6995067000389099\n"
     ]
    }
   ],
   "source": [
    "import torch\n",
    "import torch.nn as nn\n",
    "import torch.optim as optim\n",
    "from torchvision import datasets, transforms, models\n",
    "from torch.utils.data import DataLoader, random_split\n",
    "\n",
    "# 2. Laden des AlexNet Modells ohne vortrainierte Gewichte\n",
    "#alexnet = models.alexnet(pretrained=True)\n",
    "alexnet = models.resnet50(pretrained=True)\n",
    "#alexnet = models.vgg16(pretrained=True)\n",
    "alexnet = alexnet.to(device)\n",
    "\n",
    "# 3. & 4. Datensatz vorbereiten und in Trainings- und Validierungssets aufteilen\n",
    "transform = transforms.Compose([\n",
    "    transforms.Resize((224, 224)),\n",
    "    transforms.ToTensor(),\n",
    "])\n",
    "\n",
    "# 5. Laden des Datensatzes\n",
    "\n",
    "# Absoluter Pfad basierend auf dem aktuellen Arbeitsverzeichnis\n",
    "parent_directory = os.path.abspath(os.path.join(os.getcwd(), '..'))\n",
    "\n",
    "# Relative path to the folder containing the images\n",
    "relative_folderpath = os.path.join(parent_directory, 'data/segmented/graph/pl')\n",
    "\n",
    "# Erstellen des Datasets\n",
    "dataset = datasets.ImageFolder(relative_folderpath, transform=transform)\n",
    "dataloader = torch.utils.data.DataLoader(dataset, batch_size=16, shuffle=True, num_workers=4)\n",
    "\n",
    "random_seed = 2024\n",
    "torch.manual_seed(random_seed)\n",
    "\n",
    "# Define the sizes of the train and test sets\n",
    "train_size = int(0.8 * len(dataset))\n",
    "test_size = len(dataset) - train_size\n",
    "\n",
    "# Split the dataset into train and test sets\n",
    "train_dataset, test_dataset = random_split(dataset, [train_size, test_size])\n",
    "print('Train Dataset: ' + str(len(train_dataset)))\n",
    "print('Test Dataset: ' + str(len(test_dataset)))\n",
    "\n",
    "\n",
    "train_loader = torch.utils.data.DataLoader(train_dataset, batch_size=16, shuffle=True, num_workers=4)\n",
    "test_loader = torch.utils.data.DataLoader(test_dataset, batch_size=16, shuffle=True, num_workers=4)\n",
    "\n",
    "# 6. Verlustfunktion und Optimierer definieren\n",
    "criterion = nn.CrossEntropyLoss()\n",
    "optimizer = optim.SGD(alexnet.parameters(), lr=0.001, momentum=0.9)\n",
    "\n",
    "# 7. Trainingsschleife (vereinfacht)\n",
    "for epoch in range(10):\n",
    "    for inputs, labels in train_loader:\n",
    "        inputs, labels = inputs.to(device), labels.to(device)\n",
    "        optimizer.zero_grad()\n",
    "        outputs = alexnet(inputs)\n",
    "        loss = criterion(outputs, labels)\n",
    "        loss.backward()\n",
    "        optimizer.step()\n",
    "    \n",
    "    print(f'Epoch: {epoch + 1} | Loss: {loss.item()}')\n",
    "\n",
    "    # Hier könnte eine Validierungsschleife folgen"
   ]
  },
  {
   "cell_type": "code",
   "execution_count": 6,
   "metadata": {},
   "outputs": [
    {
     "name": "stdout",
     "output_type": "stream",
     "text": [
      "Predicted labels: {np.int64(0): np.int64(68), np.int64(1): np.int64(74), np.int64(2): np.int64(3)}\n",
      "True labels: {np.int64(0): np.int64(40), np.int64(1): np.int64(53), np.int64(2): np.int64(52)}\n",
      "Accuracy: 0.5724137931034483\n"
     ]
    }
   ],
   "source": [
    "alexnet.eval()\n",
    "\n",
    "with torch.no_grad():\n",
    "   correct = 0\n",
    "   total = 0\n",
    "   true_labels = []\n",
    "   predicted_labels = []\n",
    "\n",
    "   for X_test_tensor, Y_test_tensor in test_loader:\n",
    "      X_test_tensor, Y_test_tensor = X_test_tensor.to(device), Y_test_tensor.to(device)\n",
    "      outputs = alexnet(X_test_tensor)\n",
    "      _, predicted = torch.max(outputs.data, 1)\n",
    "\n",
    "      y_test = Y_test_tensor.cpu().numpy()\n",
    "      predicted = predicted.cpu().numpy()\n",
    "\n",
    "      correct += (predicted == y_test).sum().item()\n",
    "      total += len(y_test)\n",
    "\n",
    "\n",
    "      true_labels.extend(y_test)\n",
    "      predicted_labels.extend(predicted)\n",
    "\n",
    "   unique, counts = np.unique(predicted_labels, return_counts=True)\n",
    "\n",
    "   print(f'Predicted labels: {dict(zip(unique, counts))}')\n",
    "\n",
    "   unique, counts = np.unique(true_labels, return_counts=True)\n",
    "   print(f'True labels: {dict(zip(unique, counts))}')\n",
    "\n",
    "   accuracy = correct / total\n",
    "\n",
    "   print(f'Accuracy: {accuracy}')\n"
   ]
  },
  {
   "cell_type": "code",
   "execution_count": 7,
   "metadata": {},
   "outputs": [
    {
     "name": "stdout",
     "output_type": "stream",
     "text": [
      "                  Predicted Corrected  Predicted Original  Predicted Smoothed\n",
      "Actual Corrected                   37                   3                   0\n",
      "Actual Original                     6                  45                   2\n",
      "Actual Smoothed                    25                  26                   1\n"
     ]
    }
   ],
   "source": [
    "import pandas as pd\n",
    "from sklearn.metrics import confusion_matrix\n",
    "\n",
    "# Create a DataFrame from the confusion matrix\n",
    "cm = confusion_matrix(true_labels, predicted_labels)\n",
    "cm_df = pd.DataFrame(cm, index=['Actual Corrected', 'Actual Original', 'Actual Smoothed'], columns=['Predicted Corrected', 'Predicted Original', 'Predicted Smoothed'])\n",
    "\n",
    "# Display the DataFrame\n",
    "print(cm_df)\n"
   ]
  },
  {
   "cell_type": "code",
   "execution_count": 9,
   "metadata": {},
   "outputs": [],
   "source": [
    "if not os.path.exists('model/'): os.makedirs('model/')\n",
    "torch.save({\n",
    "    'model_state_dict': alexnet.state_dict(),\n",
    "    'model_architecture': alexnet\n",
    "}, 'model/resNet_complete.pth')"
   ]
  },
  {
   "cell_type": "code",
   "execution_count": null,
   "metadata": {},
   "outputs": [],
   "source": [
    "'''\n",
    " if average_validation_loss < best_validation_loss:\n",
    "            best_validation_loss = average_validation_loss\n",
    "            best_model_state_dict = model.state_dict()\n",
    "            print(epoch, ' saved!')\n",
    "'''"
   ]
  }
 ],
 "metadata": {
  "kernelspec": {
   "display_name": "Python 3",
   "language": "python",
   "name": "python3"
  },
  "language_info": {
   "codemirror_mode": {
    "name": "ipython",
    "version": 3
   },
   "file_extension": ".py",
   "mimetype": "text/x-python",
   "name": "python",
   "nbconvert_exporter": "python",
   "pygments_lexer": "ipython3",
   "version": "3.11.9"
  }
 },
 "nbformat": 4,
 "nbformat_minor": 2
}
