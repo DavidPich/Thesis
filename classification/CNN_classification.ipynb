{
 "cells": [
  {
   "cell_type": "code",
   "execution_count": 1,
   "metadata": {},
   "outputs": [],
   "source": [
    "import numpy as np\n",
    "import matplotlib.pyplot as plt\n",
    "import os\n",
    "\n",
    "import torch\n",
    "import torchvision\n",
    "from torchvision import datasets, transforms\n",
    "import torch.utils\n",
    "import torch.utils.data \n",
    "import torch.utils.data.dataloader\n",
    "import torchvision.models.resnet\n",
    "\n",
    "from sklearn.metrics import roc_curve, auc, accuracy_score\n",
    "from sklearn.metrics import f1_score, precision_score, recall_score\n",
    "from itertools import groupby"
   ]
  },
  {
   "cell_type": "code",
   "execution_count": 2,
   "metadata": {},
   "outputs": [
    {
     "name": "stdout",
     "output_type": "stream",
     "text": [
      "PyTorch version: 2.4.0\n"
     ]
    }
   ],
   "source": [
    "print(f\"PyTorch version: {torch.__version__}\")"
   ]
  },
  {
   "cell_type": "code",
   "execution_count": 3,
   "metadata": {},
   "outputs": [
    {
     "name": "stdout",
     "output_type": "stream",
     "text": [
      "Is MPS built? True\n",
      "Is MPS available? True\n",
      "Using device: mps\n"
     ]
    }
   ],
   "source": [
    "print(f\"Is MPS built? {torch.backends.mps.is_built()}\")\n",
    "print(f\"Is MPS available? {torch.backends.mps.is_available()}\")\n",
    "\n",
    "# Set device\n",
    "device = \"mps\" if torch.backends.mps.is_available() else \"cpu\"\n",
    "print(f\"Using device: {device}\")"
   ]
  },
  {
   "cell_type": "code",
   "execution_count": 4,
   "metadata": {},
   "outputs": [],
   "source": [
    "def validate(model, loader):\n",
    "    correct = 0\n",
    "    total = 0\n",
    "    \n",
    "    model.eval()\n",
    "    with torch.no_grad():\n",
    "        for images, labels in loader:\n",
    "            # Send data to device\n",
    "            images, labels = images.to(device), labels.to(device)\n",
    "\n",
    "            outputs = model(images)\n",
    "            _, predicted = torch.max(outputs.data, 1)\n",
    "            total += labels.size(0)\n",
    "            correct += (predicted == labels).sum().item()\n",
    "        \n",
    "    return correct / total"
   ]
  },
  {
   "cell_type": "code",
   "execution_count": 5,
   "metadata": {},
   "outputs": [
    {
     "name": "stderr",
     "output_type": "stream",
     "text": [
      "/Users/davidpichler/GitHubRepo/Thesis/.conda/lib/python3.11/site-packages/torchvision/models/_utils.py:208: UserWarning: The parameter 'pretrained' is deprecated since 0.13 and may be removed in the future, please use 'weights' instead.\n",
      "  warnings.warn(\n",
      "/Users/davidpichler/GitHubRepo/Thesis/.conda/lib/python3.11/site-packages/torchvision/models/_utils.py:223: UserWarning: Arguments other than a weight enum or `None` for 'weights' are deprecated since 0.13 and may be removed in the future. The current behavior is equivalent to passing `weights=ResNet50_Weights.IMAGENET1K_V1`. You can also use `weights=ResNet50_Weights.DEFAULT` to get the most up-to-date weights.\n",
      "  warnings.warn(msg)\n"
     ]
    },
    {
     "name": "stdout",
     "output_type": "stream",
     "text": [
      "Train Dataset: 1977\n",
      "Validation Dataset: 247\n",
      "Test Dataset: 248\n",
      "Epoch: 1 | Loss: 0.4357137382030487 | Train Accuracy:  0.9190283400809717\n",
      "Epoch: 2 | Loss: 0.2800390124320984 | Train Accuracy:  0.9595141700404858\n",
      "Epoch: 3 | Loss: 0.2585000991821289 | Train Accuracy:  0.9595141700404858\n",
      "Epoch: 4 | Loss: 0.037360042333602905 | Train Accuracy:  0.9838056680161943\n",
      "Epoch: 5 | Loss: 0.07351084053516388 | Train Accuracy:  0.97165991902834\n",
      "Epoch: 6 | Loss: 0.014900295063853264 | Train Accuracy:  0.9676113360323887\n",
      "Epoch: 7 | Loss: 0.02280738390982151 | Train Accuracy:  0.979757085020243\n",
      "Epoch: 8 | Loss: 0.0004607222799677402 | Train Accuracy:  0.97165991902834\n",
      "Epoch: 9 | Loss: 0.02295795828104019 | Train Accuracy:  0.9230769230769231\n",
      "Epoch: 10 | Loss: 0.17309942841529846 | Train Accuracy:  0.97165991902834\n"
     ]
    }
   ],
   "source": [
    "import torch\n",
    "import torch.nn as nn\n",
    "import torch.optim as optim\n",
    "from torchvision import datasets, transforms, models\n",
    "from torch.utils.data import DataLoader, random_split\n",
    "\n",
    "# 2. Laden des model Modells ohne vortrainierte Gewichte\n",
    "#model = models.alexnet(pretrained=True)\n",
    "model = models.resnet50(pretrained=True)\n",
    "#model = models.vgg16(pretrained=True)\n",
    "model = model.to(device)\n",
    "\n",
    "# 3. & 4. Datensatz vorbereiten und in Trainings- und Validierungssets aufteilen\n",
    "transform = transforms.Compose([\n",
    "    transforms.Resize((224, 224)),\n",
    "    transforms.ToTensor(),\n",
    "])\n",
    "\n",
    "# 5. Laden des Datensatzes\n",
    "\n",
    "# Absoluter Pfad basierend auf dem aktuellen Arbeitsverzeichnis\n",
    "#parent_directory = os.path.abspath(os.path.join(os.getcwd(), '..'))\n",
    "\n",
    "# Relative path to the folder containing the images\n",
    "relative_folderpath = '/Volumes/Crucial X9/Data_MT/Various Smule Vocal Performances/DB/Batch 3/vocal_org/graph/spec'\n",
    "\n",
    "# Erstellen des Datasets\n",
    "dataset = datasets.ImageFolder(relative_folderpath, transform=transform)\n",
    "dataloader = torch.utils.data.DataLoader(dataset, batch_size=16, shuffle=True, num_workers=4)\n",
    "\n",
    "random_seed = 2024\n",
    "torch.manual_seed(random_seed)\n",
    "\n",
    "# Define the sizes of the train and test sets\n",
    "train_size = int(0.8 * len(dataset))\n",
    "val_size = int(0.1 * len(dataset))\n",
    "test_size = len(dataset) - train_size - val_size\n",
    "\n",
    "# Split the dataset into train and test sets\n",
    "train_dataset, val_dataset, test_dataset = random_split(dataset, [train_size, val_size, test_size])\n",
    "print('Train Dataset: ' + str(len(train_dataset)))\n",
    "print('Validation Dataset: ' + str(len(val_dataset)))\n",
    "print('Test Dataset: ' + str(len(test_dataset)))\n",
    "\n",
    "\n",
    "train_loader = torch.utils.data.DataLoader(train_dataset, batch_size=16, shuffle=True, num_workers=4)\n",
    "val_loader = torch.utils.data.DataLoader(val_dataset, batch_size=16, shuffle=True, num_workers=4)\n",
    "test_loader = torch.utils.data.DataLoader(test_dataset, batch_size=16, shuffle=True, num_workers=4)\n",
    "\n",
    "# 6. Verlustfunktion und Optimierer definieren\n",
    "criterion = nn.CrossEntropyLoss()\n",
    "optimizer = optim.SGD(model.parameters(), lr=0.001, momentum=0.9)\n",
    "\n",
    "# 7. Trainingsschleife (vereinfacht)\n",
    "for epoch in range(10):\n",
    "    model.train()\n",
    "    for inputs, labels in train_loader:\n",
    "        inputs, labels = inputs.to(device), labels.to(device)\n",
    "        optimizer.zero_grad()\n",
    "        outputs = model(inputs)\n",
    "        loss = criterion(outputs, labels)\n",
    "        loss.backward()\n",
    "        optimizer.step()\n",
    "    \n",
    "    train_accuracy = validate(model, val_loader)\n",
    "    print(f'Epoch: {epoch + 1} | Loss: {loss.item()} | Train Accuracy:  {train_accuracy}')\n"
   ]
  },
  {
   "cell_type": "code",
   "execution_count": 14,
   "metadata": {},
   "outputs": [
    {
     "name": "stdout",
     "output_type": "stream",
     "text": [
      "Predicted labels: {0: 82, 1: 94, 2: 72}\n",
      "True labels: {0: 81, 1: 93, 2: 74}\n",
      "Accuracy: 0.9798387096774194\n",
      "F1 Score: 0.9798008627412513\n",
      "Precision: 0.9799171205078558\n",
      "Recall: 0.9798387096774194\n"
     ]
    }
   ],
   "source": [
    "model.eval()\n",
    "\n",
    "with torch.no_grad():\n",
    "   correct = 0\n",
    "   total = 0\n",
    "   true_labels = []\n",
    "   predicted_labels = []\n",
    "\n",
    "   for X_test_tensor, Y_test_tensor in test_loader:\n",
    "      X_test_tensor, Y_test_tensor = X_test_tensor.to(device), Y_test_tensor.to(device)\n",
    "      outputs = model(X_test_tensor)\n",
    "      _, predicted = torch.max(outputs.data, 1)\n",
    "\n",
    "      y_test = Y_test_tensor.cpu().numpy()\n",
    "      predicted = predicted.cpu().numpy()\n",
    "\n",
    "      correct += (predicted == y_test).sum().item()\n",
    "      total += len(y_test)\n",
    "\n",
    "\n",
    "      true_labels.extend(y_test)\n",
    "      predicted_labels.extend(predicted)\n",
    "\n",
    "   unique, counts = np.unique(predicted_labels, return_counts=True)\n",
    "   predicted_labels_dict = {int(k): int(v) for k, v in zip(unique, counts)}\n",
    "   print(f'Predicted labels: {predicted_labels_dict}')\n",
    "\n",
    "   unique, counts = np.unique(true_labels, return_counts=True)\n",
    "   true_labels_dict = {int(k): int(v) for k, v in zip(unique, counts)}\n",
    "   print(f'True labels: {true_labels_dict}')\n",
    "\n",
    "   accuracy = correct / total\n",
    "\n",
    "   print(f'Accuracy: {accuracy}')\n",
    "\n",
    "   f1 = f1_score(true_labels, predicted_labels, average='weighted')\n",
    "   print(f'F1 Score: {f1}')\n",
    "\n",
    "   precision = precision_score(true_labels, predicted_labels, average='weighted')\n",
    "   print(f'Precision: {precision}')\n",
    "\n",
    "   recall = recall_score(true_labels, predicted_labels, average='weighted')\n",
    "   print(f'Recall: {recall}')\n"
   ]
  },
  {
   "cell_type": "code",
   "execution_count": 15,
   "metadata": {},
   "outputs": [
    {
     "name": "stdout",
     "output_type": "stream",
     "text": [
      "                  Predicted Corrected  Predicted Original  Predicted Smoothed\n",
      "Actual Corrected                   79                   1                   1\n",
      "Actual Original                     0                  93                   0\n",
      "Actual Smoothed                     3                   0                  71\n"
     ]
    }
   ],
   "source": [
    "import pandas as pd\n",
    "from sklearn.metrics import confusion_matrix\n",
    "\n",
    "# Create a DataFrame from the confusion matrix\n",
    "cm = confusion_matrix(true_labels, predicted_labels)\n",
    "cm_df = pd.DataFrame(cm, index=['Actual Corrected', 'Actual Original', 'Actual Smoothed'], columns=['Predicted Corrected', 'Predicted Original', 'Predicted Smoothed'])\n",
    "\n",
    "# Display the DataFrame\n",
    "print(cm_df)\n"
   ]
  },
  {
   "cell_type": "code",
   "execution_count": 12,
   "metadata": {},
   "outputs": [],
   "source": [
    "if not os.path.exists('model/'): os.makedirs('model/')\n",
    "torch.save({\n",
    "    'model_state_dict': model.state_dict(),\n",
    "    'model_architecture': model\n",
    "}, 'model/resNet_complete.pth')"
   ]
  },
  {
   "cell_type": "code",
   "execution_count": 13,
   "metadata": {},
   "outputs": [
    {
     "data": {
      "text/plain": [
       "\"\\n if average_validation_loss < best_validation_loss:\\n            best_validation_loss = average_validation_loss\\n            best_model_state_dict = model.state_dict()\\n            print(epoch, ' saved!')\\n\""
      ]
     },
     "execution_count": 13,
     "metadata": {},
     "output_type": "execute_result"
    }
   ],
   "source": [
    "'''\n",
    " if average_validation_loss < best_validation_loss:\n",
    "            best_validation_loss = average_validation_loss\n",
    "            best_model_state_dict = model.state_dict()\n",
    "            print(epoch, ' saved!')\n",
    "'''"
   ]
  }
 ],
 "metadata": {
  "kernelspec": {
   "display_name": "Python 3",
   "language": "python",
   "name": "python3"
  },
  "language_info": {
   "codemirror_mode": {
    "name": "ipython",
    "version": 3
   },
   "file_extension": ".py",
   "mimetype": "text/x-python",
   "name": "python",
   "nbconvert_exporter": "python",
   "pygments_lexer": "ipython3",
   "version": "3.11.9"
  }
 },
 "nbformat": 4,
 "nbformat_minor": 2
}
